{
 "cells": [
  {
   "cell_type": "markdown",
   "id": "51d3e291-df85-4403-9b4f-f0f13f672889",
   "metadata": {},
   "source": [
    "## Data Cleaning "
   ]
  },
  {
   "cell_type": "markdown",
   "id": "bb302644-3a7c-453b-80e9-b387558e2e51",
   "metadata": {},
   "source": [
    "1. Removing unwanted column from the csv file "
   ]
  },
  {
   "cell_type": "code",
   "execution_count": 3,
   "id": "619c3c1b-73d4-48ff-86c8-9f44e4d2c831",
   "metadata": {},
   "outputs": [
    {
     "name": "stdout",
     "output_type": "stream",
     "text": [
      "Cleaned dataset saved to tmdb_cleaned_movies.csv\n"
     ]
    }
   ],
   "source": [
    "import pandas as pd\n",
    "\n",
    "# Load the dataset\n",
    "input_file = \"tmdb_all_movies.csv\"  \n",
    "output_file = \"tmdb_cleaned_movies.csv\"\n",
    "\n",
    "# Columns to keep\n",
    "required_columns = [\n",
    "    \"id\", \"title\", \"vote_average\", \"vote_count\", \"release_date\", \"revenue\", \n",
    "    \"runtime\", \"budget\", \"original_language\", \"overview\", \"popularity\", \n",
    "    \"genres\", \"cast\", \"director\"\n",
    "]\n",
    "\n",
    "# Read the dataset\n",
    "df = pd.read_csv(input_file)\n",
    "\n",
    "# Select only the required columns\n",
    "df_cleaned = df[required_columns]\n",
    "\n",
    "# Save the cleaned dataset\n",
    "df_cleaned.to_csv(output_file, index=False)\n",
    "\n",
    "print(f\"Cleaned dataset saved to {output_file}\")"
   ]
  },
  {
   "cell_type": "markdown",
   "id": "9e87b01c-b964-45bd-af2f-85f05e76e6c8",
   "metadata": {},
   "source": [
    "2. Removing the null value column in the dataframe  "
   ]
  },
  {
   "cell_type": "code",
   "execution_count": 12,
   "id": "66b3a8a9-d62c-43c2-8a2c-d8c7fdba9129",
   "metadata": {},
   "outputs": [
    {
     "name": "stdout",
     "output_type": "stream",
     "text": [
      "   id                             title  vote_average  vote_count  \\\n",
      "0   2                             Ariel         7.082         304   \n",
      "1   3               Shadows in Paradise         7.302         344   \n",
      "2   5                        Four Rooms         5.800        2534   \n",
      "3   6                    Judgment Night         6.527         316   \n",
      "4   8  Life in Loops (A Megacities RMX)         7.500          27   \n",
      "\n",
      "  release_date     revenue  runtime      budget original_language  \\\n",
      "0   1988-10-21         0.0       73         0.0                fi   \n",
      "1   1986-10-17         0.0       74         0.0                fi   \n",
      "2   1995-12-09   4257354.0       98   4000000.0                en   \n",
      "3   1993-10-15  12136938.0      109  21000000.0                en   \n",
      "4   2006-01-01         0.0       80     42000.0                en   \n",
      "\n",
      "                                            overview  popularity  \\\n",
      "0  After the coal mine he works at closes and his...       9.751   \n",
      "1  Nikander, a rubbish collector and would-be ent...      12.724   \n",
      "2  It's Ted the Bellhop's first night on the job....      20.789   \n",
      "3  Four young friends, while taking a shortcut en...      11.920   \n",
      "4  Timo Novotny labels his new project an experim...       3.203   \n",
      "\n",
      "                          genres  \\\n",
      "0  Drama, Comedy, Romance, Crime   \n",
      "1         Drama, Comedy, Romance   \n",
      "2                         Comedy   \n",
      "3        Action, Crime, Thriller   \n",
      "4                    Documentary   \n",
      "\n",
      "                                                cast  \\\n",
      "0  Markku Rantala, Esko Nikkari, Matti Pellonpää,...   \n",
      "1  Esko Nikkari, Matti Pellonpää, Sirkka Silin, H...   \n",
      "2  Amanda de Cadenet, Antonio Banderas, Madonna, ...   \n",
      "3  Everlast, Peter Greene, Michael DeLorenzo, Den...   \n",
      "4                                                NaN   \n",
      "\n",
      "                                            director  \n",
      "0                                     Aki Kaurismäki  \n",
      "1                                     Aki Kaurismäki  \n",
      "2  Alexandre Rockwell, Robert Rodriguez, Quentin ...  \n",
      "3                                    Stephen Hopkins  \n",
      "4                                       Timo Novotny  \n"
     ]
    }
   ],
   "source": [
    "df_cleaned = df_cleaned.dropna(axis=1, how=\"all\")\n",
    "print(df_cleaned.head())"
   ]
  },
  {
   "cell_type": "markdown",
   "id": "39619d16-801b-4728-9f09-f78f463a8ff5",
   "metadata": {},
   "source": [
    "3. Enriching data by creating a year column, month column and day column"
   ]
  },
  {
   "cell_type": "code",
   "execution_count": 14,
   "id": "9cb1e785-6f41-4357-a577-610302dcc29a",
   "metadata": {},
   "outputs": [
    {
     "name": "stdout",
     "output_type": "stream",
     "text": [
      "  release_date    year  month   day\n",
      "0   1988-10-21  1988.0   10.0  21.0\n",
      "1   1986-10-17  1986.0   10.0  17.0\n",
      "2   1995-12-09  1995.0   12.0   9.0\n",
      "3   1993-10-15  1993.0   10.0  15.0\n",
      "4   2006-01-01  2006.0    1.0   1.0\n"
     ]
    }
   ],
   "source": [
    "df_cleaned['release_date'] = pd.to_datetime(df_cleaned['release_date'], errors='coerce')\n",
    "\n",
    "# Extract year, month, and day into new columns\n",
    "df_cleaned['year'] = df_cleaned['release_date'].dt.year\n",
    "df_cleaned['month'] = df_cleaned['release_date'].dt.month\n",
    "df_cleaned['day'] = df_cleaned['release_date'].dt.day\n",
    "\n",
    "# Display the updated DataFrame\n",
    "print(df_cleaned[['release_date', 'year', 'month', 'day']].head())"
   ]
  },
  {
   "cell_type": "code",
   "execution_count": null,
   "id": "6929910e-46ae-45b2-8b01-eeb866097a80",
   "metadata": {},
   "outputs": [],
   "source": [
    "output_file = \"tmdb_cleaned_with_date_columns.csv\"\n",
    "df_cleaned.to_csv(output_file, index=False)\n",
    "\n",
    "print(f\"DataFrame saved to {output_file}\")"
   ]
  }
 ],
 "metadata": {
  "kernelspec": {
   "display_name": "Python 3 (ipykernel)",
   "language": "python",
   "name": "python3"
  },
  "language_info": {
   "codemirror_mode": {
    "name": "ipython",
    "version": 3
   },
   "file_extension": ".py",
   "mimetype": "text/x-python",
   "name": "python",
   "nbconvert_exporter": "python",
   "pygments_lexer": "ipython3",
   "version": "3.12.4"
  }
 },
 "nbformat": 4,
 "nbformat_minor": 5
}
