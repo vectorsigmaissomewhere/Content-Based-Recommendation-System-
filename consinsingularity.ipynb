{
 "cells": [
  {
   "cell_type": "code",
   "execution_count": 80,
   "id": "0990e2a7-1917-49a2-be83-e0496f92bbdf",
   "metadata": {},
   "outputs": [
    {
     "name": "stdout",
     "output_type": "stream",
     "text": [
      "Precision@10: 0.00\n",
      "Recall@10: 0.04\n",
      "\n",
      "Recommendations for 'Iron Man':\n",
      "['Iron Man 2', 'Visiting Van Gogh', 'The Brother from Space', 'Der Tag des Jorun', 'Am nächsten Morgen kehrte der Minister nicht an seinen Arbeitsplatz zurück', 'Die Letzte Droge', 'Xaver und sein außerirdischer Freund', 'The Invincible Iron Man', 'The Dark Half', 'Strawberry in the Supermarket']\n"
     ]
    }
   ],
   "source": [
    "import pandas as pd\n",
    "from sklearn.feature_extraction.text import TfidfVectorizer\n",
    "from sklearn.metrics.pairwise import cosine_similarity\n",
    "from sklearn.model_selection import train_test_split\n",
    "from sklearn.metrics import precision_score, recall_score\n",
    "\n",
    "# Step 1: Load and preprocess data\n",
    "movies = pd.read_csv('modelfile.csv')\n",
    "movies = movies[['id', 'title', 'overview', 'genres']]\n",
    "\n",
    "# Fill missing values\n",
    "movies.fillna('', inplace=True)\n",
    "\n",
    "# Combine features\n",
    "movies['tags'] = movies['overview'] + ' ' + movies['genres']\n",
    "new_data = movies.drop(columns=['overview', 'genres'])\n",
    "\n",
    "# Step 2: Vectorization with TF-IDF\n",
    "tfidf = TfidfVectorizer(max_features=10000, stop_words='english')\n",
    "vector = tfidf.fit_transform(new_data['tags'].values.astype('U')).toarray()\n",
    "\n",
    "# Step 3: Similarity Matrix\n",
    "similarity = cosine_similarity(vector)\n",
    "\n",
    "# Step 4: Train-Test Split\n",
    "train_data, test_data = train_test_split(new_data, test_size=0.2, random_state=42)\n",
    "\n",
    "# Step 5: Recommendation Function\n",
    "def recommend(movie_title, data, similarity_matrix, top_k=10):\n",
    "    try:\n",
    "        index = data[data['title'] == movie_title].index[0]\n",
    "        distances = sorted(list(enumerate(similarity_matrix[index])), reverse=True, key=lambda x: x[1])\n",
    "        recommended_titles = [data.iloc[i[0]].title for i in distances[1:top_k + 1]]\n",
    "        return recommended_titles\n",
    "    except IndexError:\n",
    "        return []\n",
    "\n",
    "# Step 6: Evaluate Precision@10 and Recall@10\n",
    "true_positives = 0\n",
    "all_recommendations = 0\n",
    "relevant_recommendations = 0\n",
    "\n",
    "for _, row in test_data.iterrows():\n",
    "    try:\n",
    "        recommendations = recommend(row['title'], new_data, similarity, top_k=10)\n",
    "        relevant_recommendations += 1  # Test movie is relevant\n",
    "        if row['title'] in recommendations:\n",
    "            true_positives += 1\n",
    "        all_recommendations += len(recommendations)\n",
    "    except IndexError:\n",
    "        continue\n",
    "\n",
    "precision = true_positives / all_recommendations if all_recommendations > 0 else 0\n",
    "recall = true_positives / relevant_recommendations if relevant_recommendations > 0 else 0\n",
    "\n",
    "print(f\"Precision@10: {precision:.2f}\")\n",
    "print(f\"Recall@10: {recall:.2f}\")\n",
    "\n",
    "# Step 7: Example Recommendations\n",
    "print(\"\\nRecommendations for 'Iron Man':\")\n",
    "print(recommend(\"Iron Man\", new_data, similarity, top_k=10))"
   ]
  },
  {
   "cell_type": "code",
   "execution_count": null,
   "id": "e561ace2-56c9-4277-a716-e03abbf0739d",
   "metadata": {},
   "outputs": [],
   "source": []
  }
 ],
 "metadata": {
  "kernelspec": {
   "display_name": "Python 3 (ipykernel)",
   "language": "python",
   "name": "python3"
  },
  "language_info": {
   "codemirror_mode": {
    "name": "ipython",
    "version": 3
   },
   "file_extension": ".py",
   "mimetype": "text/x-python",
   "name": "python",
   "nbconvert_exporter": "python",
   "pygments_lexer": "ipython3",
   "version": "3.12.4"
  }
 },
 "nbformat": 4,
 "nbformat_minor": 5
}
