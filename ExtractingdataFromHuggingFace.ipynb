{
 "cells": [
  {
   "cell_type": "code",
   "execution_count": 7,
   "id": "06692aec-df9a-4aa9-9f11-f839d388d492",
   "metadata": {},
   "outputs": [
    {
     "name": "stdout",
     "output_type": "stream",
     "text": [
      "Requirement already satisfied: datasets in d:\\disk d downloads\\anaconda\\lib\\site-packages (3.2.0)\n",
      "Requirement already satisfied: filelock in d:\\disk d downloads\\anaconda\\lib\\site-packages (from datasets) (3.13.1)\n",
      "Requirement already satisfied: numpy>=1.17 in d:\\disk d downloads\\anaconda\\lib\\site-packages (from datasets) (1.26.4)\n",
      "Requirement already satisfied: pyarrow>=15.0.0 in d:\\disk d downloads\\anaconda\\lib\\site-packages (from datasets) (18.1.0)\n",
      "Requirement already satisfied: dill<0.3.9,>=0.3.0 in d:\\disk d downloads\\anaconda\\lib\\site-packages (from datasets) (0.3.8)\n",
      "Requirement already satisfied: pandas in d:\\disk d downloads\\anaconda\\lib\\site-packages (from datasets) (2.2.2)\n",
      "Requirement already satisfied: requests>=2.32.2 in d:\\disk d downloads\\anaconda\\lib\\site-packages (from datasets) (2.32.2)\n",
      "Requirement already satisfied: tqdm>=4.66.3 in d:\\disk d downloads\\anaconda\\lib\\site-packages (from datasets) (4.66.4)\n",
      "Requirement already satisfied: xxhash in d:\\disk d downloads\\anaconda\\lib\\site-packages (from datasets) (3.5.0)\n",
      "Requirement already satisfied: multiprocess<0.70.17 in d:\\disk d downloads\\anaconda\\lib\\site-packages (from datasets) (0.70.16)\n",
      "Requirement already satisfied: fsspec<=2024.9.0,>=2023.1.0 in d:\\disk d downloads\\anaconda\\lib\\site-packages (from fsspec[http]<=2024.9.0,>=2023.1.0->datasets) (2024.3.1)\n",
      "Requirement already satisfied: aiohttp in d:\\disk d downloads\\anaconda\\lib\\site-packages (from datasets) (3.9.5)\n",
      "Requirement already satisfied: huggingface-hub>=0.23.0 in d:\\disk d downloads\\anaconda\\lib\\site-packages (from datasets) (0.27.1)\n",
      "Requirement already satisfied: packaging in d:\\disk d downloads\\anaconda\\lib\\site-packages (from datasets) (23.2)\n",
      "Requirement already satisfied: pyyaml>=5.1 in d:\\disk d downloads\\anaconda\\lib\\site-packages (from datasets) (6.0.1)\n",
      "Requirement already satisfied: aiosignal>=1.1.2 in d:\\disk d downloads\\anaconda\\lib\\site-packages (from aiohttp->datasets) (1.2.0)\n",
      "Requirement already satisfied: attrs>=17.3.0 in d:\\disk d downloads\\anaconda\\lib\\site-packages (from aiohttp->datasets) (24.3.0)\n",
      "Requirement already satisfied: frozenlist>=1.1.1 in d:\\disk d downloads\\anaconda\\lib\\site-packages (from aiohttp->datasets) (1.4.0)\n",
      "Requirement already satisfied: multidict<7.0,>=4.5 in d:\\disk d downloads\\anaconda\\lib\\site-packages (from aiohttp->datasets) (6.0.4)\n",
      "Requirement already satisfied: yarl<2.0,>=1.0 in d:\\disk d downloads\\anaconda\\lib\\site-packages (from aiohttp->datasets) (1.9.3)\n",
      "Requirement already satisfied: typing-extensions>=3.7.4.3 in d:\\disk d downloads\\anaconda\\lib\\site-packages (from huggingface-hub>=0.23.0->datasets) (4.11.0)\n",
      "Requirement already satisfied: charset-normalizer<4,>=2 in d:\\disk d downloads\\anaconda\\lib\\site-packages (from requests>=2.32.2->datasets) (2.0.4)\n",
      "Requirement already satisfied: idna<4,>=2.5 in d:\\disk d downloads\\anaconda\\lib\\site-packages (from requests>=2.32.2->datasets) (3.7)\n",
      "Requirement already satisfied: urllib3<3,>=1.21.1 in d:\\disk d downloads\\anaconda\\lib\\site-packages (from requests>=2.32.2->datasets) (2.2.2)\n",
      "Requirement already satisfied: certifi>=2017.4.17 in d:\\disk d downloads\\anaconda\\lib\\site-packages (from requests>=2.32.2->datasets) (2024.8.30)\n",
      "Requirement already satisfied: colorama in d:\\disk d downloads\\anaconda\\lib\\site-packages (from tqdm>=4.66.3->datasets) (0.4.6)\n",
      "Requirement already satisfied: python-dateutil>=2.8.2 in d:\\disk d downloads\\anaconda\\lib\\site-packages (from pandas->datasets) (2.9.0.post0)\n",
      "Requirement already satisfied: pytz>=2020.1 in d:\\disk d downloads\\anaconda\\lib\\site-packages (from pandas->datasets) (2024.1)\n",
      "Requirement already satisfied: tzdata>=2022.7 in d:\\disk d downloads\\anaconda\\lib\\site-packages (from pandas->datasets) (2023.3)\n",
      "Requirement already satisfied: six>=1.5 in d:\\disk d downloads\\anaconda\\lib\\site-packages (from python-dateutil>=2.8.2->pandas->datasets) (1.16.0)\n",
      "Note: you may need to restart the kernel to use updated packages.\n"
     ]
    }
   ],
   "source": [
    "pip install datasets"
   ]
  },
  {
   "cell_type": "code",
   "execution_count": 15,
   "id": "ce65038d-cab0-492f-b406-9df80bcaec87",
   "metadata": {},
   "outputs": [
    {
     "name": "stderr",
     "output_type": "stream",
     "text": [
      "Repo card metadata block was not found. Setting CardData to empty.\n"
     ]
    },
    {
     "name": "stdout",
     "output_type": "stream",
     "text": [
      "Dataset successfully saved to tmdb_all_movies.csv\n"
     ]
    }
   ],
   "source": [
    "from datasets import load_dataset\n",
    "import pandas as pd\n",
    "\n",
    "# Load the dataset\n",
    "ds = load_dataset(\"bloc4488/TMDB-all-movies\")\n",
    "\n",
    "# Convert the 'train' split to a Pandas DataFrame\n",
    "df = pd.DataFrame(ds['train'])\n",
    "\n",
    "# Save the DataFrame to a new file (e.g., CSV format)\n",
    "output_file = \"tmdb_all_movies.csv\"\n",
    "df.to_csv(output_file, index=False)  # Save without including the index column\n",
    "\n",
    "print(f\"Dataset successfully saved to {output_file}\")"
   ]
  },
  {
   "cell_type": "code",
   "execution_count": 9,
   "id": "2dc1e8b4-c2f6-426b-bd9e-bf588ea56247",
   "metadata": {},
   "outputs": [
    {
     "name": "stdout",
     "output_type": "stream",
     "text": [
      "DatasetDict({\n",
      "    train: Dataset({\n",
      "        features: ['Unnamed: 0', 'id', 'title', 'vote_average', 'vote_count', 'status', 'release_date', 'revenue', 'runtime', 'budget', 'imdb_id', 'original_language', 'original_title', 'overview', 'popularity', 'tagline', 'genres', 'production_companies', 'production_countries', 'spoken_languages', 'cast', 'director', 'director_of_photography', 'writers', 'producers', 'music_composer'],\n",
      "        num_rows: 10000\n",
      "    })\n",
      "})\n",
      "{'Unnamed: 0': 0, 'id': 2, 'title': 'Ariel', 'vote_average': 7.082, 'vote_count': 304, 'status': 'Released', 'release_date': '1988-10-21', 'revenue': 0.0, 'runtime': 73, 'budget': 0.0, 'imdb_id': 'tt0094675', 'original_language': 'fi', 'original_title': 'Ariel', 'overview': 'After the coal mine he works at closes and his father commits suicide, a Finnish man leaves for the city to make a living but there, he is framed and imprisoned for various crimes.', 'popularity': 9.751, 'tagline': None, 'genres': 'Drama, Comedy, Romance, Crime', 'production_companies': 'Villealfa Filmproductions', 'production_countries': 'Finland', 'spoken_languages': 'suomi', 'cast': 'Markku Rantala, Esko Nikkari, Matti Pellonpää, Timo Toikka, Susanna Haavisto, Matti Jaaranen, Pekka Wilen, Olli Varja, Juuso Hirvikangas, Timo Markko, Hannu Viholainen, Sakari Kuosmanen, Jouko Lumme, Tarja Keinänen, Hanna Jokinen, Veikko Uusimäki, Kari Helaseppä, Erkki Pajala, Tomi Salmela, Heikki Anttila, Hannu Kivisalo, Pentti Auer, Esko Salminen, Reijo Marin, Timo Harakka, Heikki Salomaa, Mikko Lyytikäinen, Turo Pajala, Mikko Remes, Sami Lanki, Jyrki Olsonen, Marja Packalén, Eetu Hilkamo, Eino Kuusela, Kauko Laalo, Jorma Markkula, Jaakko Talaskivi, Sirkka Rautiainen', 'director': 'Aki Kaurismäki', 'director_of_photography': 'Timo Salminen', 'writers': 'Aki Kaurismäki', 'producers': 'Aki Kaurismäki', 'music_composer': None}\n"
     ]
    }
   ],
   "source": [
    "# View dataset details\n",
    "print(ds)\n",
    "\n",
    "# Access the first few rows of the default split\n",
    "print(ds['train'][0])  # Replace 'train' with the appropriate split if necessary"
   ]
  },
  {
   "cell_type": "code",
   "execution_count": null,
   "id": "e3d90a34-2b94-4724-a7e4-0fa896f4da3c",
   "metadata": {},
   "outputs": [],
   "source": []
  },
  {
   "cell_type": "code",
   "execution_count": null,
   "id": "734cb5fe-2149-4fe1-acfe-6897cc4a8aa3",
   "metadata": {},
   "outputs": [],
   "source": []
  }
 ],
 "metadata": {
  "kernelspec": {
   "display_name": "Python 3 (ipykernel)",
   "language": "python",
   "name": "python3"
  },
  "language_info": {
   "codemirror_mode": {
    "name": "ipython",
    "version": 3
   },
   "file_extension": ".py",
   "mimetype": "text/x-python",
   "name": "python",
   "nbconvert_exporter": "python",
   "pygments_lexer": "ipython3",
   "version": "3.12.4"
  }
 },
 "nbformat": 4,
 "nbformat_minor": 5
}
